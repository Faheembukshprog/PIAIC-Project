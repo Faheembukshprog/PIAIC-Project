{
  "nbformat": 4,
  "nbformat_minor": 0,
  "metadata": {
    "colab": {
      "provenance": [],
      "authorship_tag": "ABX9TyNoPrvxOEdnr2cgm0PwQ3Nm",
      "include_colab_link": true
    },
    "kernelspec": {
      "name": "python3",
      "display_name": "Python 3"
    },
    "language_info": {
      "name": "python"
    }
  },
  "cells": [
    {
      "cell_type": "markdown",
      "metadata": {
        "id": "view-in-github",
        "colab_type": "text"
      },
      "source": [
        "<a href=\"https://colab.research.google.com/github/Faheembukshprog/PIAIC-Project/blob/main/Mad_libs_Python_Project.ipynb\" target=\"_parent\"><img src=\"https://colab.research.google.com/assets/colab-badge.svg\" alt=\"Open In Colab\"/></a>"
      ]
    },
    {
      "cell_type": "code",
      "source": [
        "# Mad libs Python Project\n",
        "story = \"\"\"\n",
        "Once upon a time, there was a {adjective} {noun}. It loved to {verb} every day. One day, it met a {adjective2} {noun2} that wanted to {verb2} too.\n",
        "They became best {plural_noun} and had many {adjective} adventures together.\n",
        "\"\"\"\n",
        "\n",
        "# Input elements\n",
        "adjective1 = input(\"Enter an adjective: \").strip()\n",
        "noun1 = input(\"Enter a noun: \").strip()\n",
        "verb1 = input(\"Enter a verb (past tense): \").strip()\n",
        "adjective2 = input(\"Enter another adjective: \").strip()\n",
        "noun2 = input(\"Enter another noun: \").strip()\n",
        "verb2 = input(\"Enter another verb (past tense): \").strip()\n",
        "plural_noun = input(\"Enter a plural noun: \").strip()\n",
        "\n",
        "# inputs fill form\n",
        "story_filled = story.format(\n",
        "    adjective=adjective1,\n",
        "    noun=noun1,\n",
        "    verb=verb1,\n",
        "    adjective2=adjective2,\n",
        "    noun2=noun2,\n",
        "    verb2=verb2,\n",
        "    plural_noun=plural_noun,\n",
        ")\n",
        "\n",
        "# Output Print\n",
        "print(\"\\nHere is your Mad Libs story:\")\n",
        "print(story_filled)\n"
      ],
      "metadata": {
        "colab": {
          "base_uri": "https://localhost:8080/"
        },
        "id": "ClOKA_RmXBeD",
        "outputId": "21a61203-4821-47b4-f4a4-8020cb6a60a2"
      },
      "execution_count": 11,
      "outputs": [
        {
          "output_type": "stream",
          "name": "stdout",
          "text": [
            "Enter an adjective: \n",
            "Enter a noun: \n",
            "Enter a verb (past tense): \n",
            "Enter another adjective: \n",
            "Enter another noun: \n",
            "Enter another verb (past tense): \n",
            "Enter a plural noun: \n",
            "\n",
            "Here is your Mad Libs story:\n",
            "\n",
            "Once upon a time, there was a  . It loved to  every day. One day, it met a   that wanted to  too. \n",
            "They became best  and had many  adventures together.\n",
            "\n"
          ]
        }
      ]
    }
  ]
}